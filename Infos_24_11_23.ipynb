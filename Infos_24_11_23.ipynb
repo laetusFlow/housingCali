{
  "nbformat": 4,
  "nbformat_minor": 0,
  "metadata": {
    "colab": {
      "provenance": []
    },
    "kernelspec": {
      "name": "python3",
      "display_name": "Python 3"
    },
    "language_info": {
      "name": "python"
    }
  },
  "cells": [
    {
      "cell_type": "markdown",
      "source": [
        "# Infos zur Zoom-Veranstaltung am 24.11.23\n",
        "\n",
        "## Termine und Ablauf\n",
        "\n",
        "\n",
        "**24.11.: Übungen --> via Zoom** - Beginn 09 Uhr (MEZ)!!\n",
        "\n",
        "Zoom-Link:\n",
        "https://ufz-de.zoom-x.de/j/6950699109?pwd=Nk5vQkljZ2J6VFlFbXcvZGV6TXN2dz09\n",
        "\n",
        "\n",
        "\n",
        "## Wichtige Links\n",
        "\n",
        "* GitHub Repository für Vorlesungsmaterialien: https://github.com/geoclaudsch/DASC\n",
        "* Nextcloud für Übungsaufgaben-Abgabe: https://nc.ufz.de/s/qwodbP2yNnabCBy (Das Passwort ist im pdf der Übungsaufgabe zu finden!)\n",
        "* Email bei Fragen: e5000018@ba-sachsen.de\n",
        "* Telefon bei ganz dringenden Fragen: 0341-6025-1803\n"
      ],
      "metadata": {
        "id": "vfCtgy8ReWeF"
      }
    },
    {
      "cell_type": "markdown",
      "source": [],
      "metadata": {
        "id": "pbi2bwBBQvxx"
      }
    }
  ]
}